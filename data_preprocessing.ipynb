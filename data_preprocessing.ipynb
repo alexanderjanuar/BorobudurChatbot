{
 "cells": [
  {
   "cell_type": "markdown",
   "metadata": {},
   "source": [
    "## Data Preprocessing"
   ]
  },
  {
   "cell_type": "code",
   "execution_count": 1,
   "metadata": {},
   "outputs": [],
   "source": [
    "import pandas as pd"
   ]
  },
  {
   "cell_type": "markdown",
   "metadata": {},
   "source": [
    "#### Read Data"
   ]
  },
  {
   "cell_type": "code",
   "execution_count": 38,
   "metadata": {},
   "outputs": [
    {
     "data": {
      "text/html": [
       "<div>\n",
       "<style scoped>\n",
       "    .dataframe tbody tr th:only-of-type {\n",
       "        vertical-align: middle;\n",
       "    }\n",
       "\n",
       "    .dataframe tbody tr th {\n",
       "        vertical-align: top;\n",
       "    }\n",
       "\n",
       "    .dataframe thead th {\n",
       "        text-align: right;\n",
       "    }\n",
       "</style>\n",
       "<table border=\"1\" class=\"dataframe\">\n",
       "  <thead>\n",
       "    <tr style=\"text-align: right;\">\n",
       "      <th></th>\n",
       "      <th>question</th>\n",
       "      <th>answer</th>\n",
       "      <th>passage</th>\n",
       "      <th>type</th>\n",
       "      <th>topik</th>\n",
       "    </tr>\n",
       "  </thead>\n",
       "  <tbody>\n",
       "    <tr>\n",
       "      <th>0</th>\n",
       "      <td>\"Apa yang menarik perhatian wisatawan asing te...</td>\n",
       "      <td>\"Atribut Ornamen Arsitektur, Peradaban Jawa Ku...</td>\n",
       "      <td>\"Atribut Ornamen Arsitektur: Relief naratif di...</td>\n",
       "      <td>single</td>\n",
       "      <td>budaya</td>\n",
       "    </tr>\n",
       "    <tr>\n",
       "      <th>1</th>\n",
       "      <td>\"Apa kesamaan konstruksi kayu pada relief Cand...</td>\n",
       "      <td>\"Bentuk Atap Serupa, Teknik Konstruksi, Signif...</td>\n",
       "      <td>\"Bentuk Atap Serupa: Konstruksi kayu yang diga...</td>\n",
       "      <td>single</td>\n",
       "      <td>arsitektur</td>\n",
       "    </tr>\n",
       "    <tr>\n",
       "      <th>2</th>\n",
       "      <td>\"Apa keindahan arsitektur Candi Borobudur?\"</td>\n",
       "      <td>\"Kuil ini menampilkan ukiran relief yang rumit...</td>\n",
       "      <td>\"Candi Borobudur terkenal dengan keindahan ars...</td>\n",
       "      <td>single</td>\n",
       "      <td>arsitektur</td>\n",
       "    </tr>\n",
       "    <tr>\n",
       "      <th>3</th>\n",
       "      <td>\"Mengapa Candi Borobudur menjadi Situs Warisan...</td>\n",
       "      <td>\"Candi Borobudur ditetapkan sebagai Situs Wari...</td>\n",
       "      <td>\"Candi Borobudur ditetapkan sebagai Situs Wari...</td>\n",
       "      <td>single</td>\n",
       "      <td>budaya</td>\n",
       "    </tr>\n",
       "    <tr>\n",
       "      <th>4</th>\n",
       "      <td>\"Siapa yang membangun Candi Borobudur?\"</td>\n",
       "      <td>\"Candi Borobudur dibangun oleh Dinasti Shailen...</td>\n",
       "      <td>\"Candi Borobudur dibangun oleh Dinasti Shailen...</td>\n",
       "      <td>single</td>\n",
       "      <td>sejarah</td>\n",
       "    </tr>\n",
       "    <tr>\n",
       "      <th>...</th>\n",
       "      <td>...</td>\n",
       "      <td>...</td>\n",
       "      <td>...</td>\n",
       "      <td>...</td>\n",
       "      <td>...</td>\n",
       "    </tr>\n",
       "    <tr>\n",
       "      <th>1006</th>\n",
       "      <td>\"Apa yang dapat kita pelajari dari teknik kons...</td>\n",
       "      <td>\"Dari teknik konstruksi atap kayu pada Candi B...</td>\n",
       "      <td>\"Dari teknik konstruksi atap kayu pada Candi B...</td>\n",
       "      <td>single</td>\n",
       "      <td>Arsitektur</td>\n",
       "    </tr>\n",
       "    <tr>\n",
       "      <th>1007</th>\n",
       "      <td>\"Bagaimana atap kayu pada Candi Borobudur meng...</td>\n",
       "      <td>\"Atap kayu pada Candi Borobudur mengakomodasi ...</td>\n",
       "      <td>\"Atap kayu pada Candi Borobudur mengakomodasi ...</td>\n",
       "      <td>single</td>\n",
       "      <td>Arsitektur</td>\n",
       "    </tr>\n",
       "    <tr>\n",
       "      <th>1008</th>\n",
       "      <td>\"Bagaimana atap kayu pada Candi Borobudur diin...</td>\n",
       "      <td>\"Atap kayu pada Candi Borobudur diintegrasikan...</td>\n",
       "      <td>\"Atap kayu pada Candi Borobudur diintegrasikan...</td>\n",
       "      <td>single</td>\n",
       "      <td>Arsitektur</td>\n",
       "    </tr>\n",
       "    <tr>\n",
       "      <th>1009</th>\n",
       "      <td>\"Apakah terdapat inovasi atau elemen desain un...</td>\n",
       "      <td>\"Ya, atap kayu Candi Borobudur memiliki varias...</td>\n",
       "      <td>\"Terdapat inovasi dan elemen desain unik dalam...</td>\n",
       "      <td>single</td>\n",
       "      <td>Arsitektur</td>\n",
       "    </tr>\n",
       "    <tr>\n",
       "      <th>1010</th>\n",
       "      <td>\"Apa yang dapat kita pelajari dari tipologi at...</td>\n",
       "      <td>\"Dari tipologi atap kayu Candi Borobudur, kita...</td>\n",
       "      <td>\"Dari tipologi atap kayu Candi Borobudur, kita...</td>\n",
       "      <td>single</td>\n",
       "      <td>Budaya</td>\n",
       "    </tr>\n",
       "  </tbody>\n",
       "</table>\n",
       "<p>1011 rows × 5 columns</p>\n",
       "</div>"
      ],
      "text/plain": [
       "                                               question  \\\n",
       "0     \"Apa yang menarik perhatian wisatawan asing te...   \n",
       "1     \"Apa kesamaan konstruksi kayu pada relief Cand...   \n",
       "2           \"Apa keindahan arsitektur Candi Borobudur?\"   \n",
       "3     \"Mengapa Candi Borobudur menjadi Situs Warisan...   \n",
       "4               \"Siapa yang membangun Candi Borobudur?\"   \n",
       "...                                                 ...   \n",
       "1006  \"Apa yang dapat kita pelajari dari teknik kons...   \n",
       "1007  \"Bagaimana atap kayu pada Candi Borobudur meng...   \n",
       "1008  \"Bagaimana atap kayu pada Candi Borobudur diin...   \n",
       "1009  \"Apakah terdapat inovasi atau elemen desain un...   \n",
       "1010  \"Apa yang dapat kita pelajari dari tipologi at...   \n",
       "\n",
       "                                                 answer  \\\n",
       "0     \"Atribut Ornamen Arsitektur, Peradaban Jawa Ku...   \n",
       "1     \"Bentuk Atap Serupa, Teknik Konstruksi, Signif...   \n",
       "2     \"Kuil ini menampilkan ukiran relief yang rumit...   \n",
       "3     \"Candi Borobudur ditetapkan sebagai Situs Wari...   \n",
       "4     \"Candi Borobudur dibangun oleh Dinasti Shailen...   \n",
       "...                                                 ...   \n",
       "1006  \"Dari teknik konstruksi atap kayu pada Candi B...   \n",
       "1007  \"Atap kayu pada Candi Borobudur mengakomodasi ...   \n",
       "1008  \"Atap kayu pada Candi Borobudur diintegrasikan...   \n",
       "1009  \"Ya, atap kayu Candi Borobudur memiliki varias...   \n",
       "1010  \"Dari tipologi atap kayu Candi Borobudur, kita...   \n",
       "\n",
       "                                                passage    type       topik  \n",
       "0     \"Atribut Ornamen Arsitektur: Relief naratif di...  single      budaya  \n",
       "1     \"Bentuk Atap Serupa: Konstruksi kayu yang diga...  single  arsitektur  \n",
       "2     \"Candi Borobudur terkenal dengan keindahan ars...  single  arsitektur  \n",
       "3     \"Candi Borobudur ditetapkan sebagai Situs Wari...  single      budaya  \n",
       "4     \"Candi Borobudur dibangun oleh Dinasti Shailen...  single     sejarah  \n",
       "...                                                 ...     ...         ...  \n",
       "1006  \"Dari teknik konstruksi atap kayu pada Candi B...  single  Arsitektur  \n",
       "1007  \"Atap kayu pada Candi Borobudur mengakomodasi ...  single  Arsitektur  \n",
       "1008  \"Atap kayu pada Candi Borobudur diintegrasikan...  single  Arsitektur  \n",
       "1009  \"Terdapat inovasi dan elemen desain unik dalam...  single  Arsitektur  \n",
       "1010  \"Dari tipologi atap kayu Candi Borobudur, kita...  single      Budaya  \n",
       "\n",
       "[1011 rows x 5 columns]"
      ]
     },
     "execution_count": 38,
     "metadata": {},
     "output_type": "execute_result"
    }
   ],
   "source": [
    "# Read the Excel sheets into a dictionary of DataFrames\n",
    "raw_df = pd.read_excel('Dataset.xlsx', sheet_name=['SALSABILA', 'WILDAN'], header=1)\n",
    "\n",
    "# Convert all column names to lowercase for each DataFrame\n",
    "for sheet in raw_df:\n",
    "    raw_df[sheet].columns = raw_df[sheet].columns.str.lower()\n",
    "\n",
    "# Concatenate the two DataFrames along rows (axis=0)\n",
    "combined_df = pd.concat([raw_df['SALSABILA'], raw_df['WILDAN']], ignore_index=True)\n",
    "combined_df"
   ]
  },
  {
   "cell_type": "code",
   "execution_count": 39,
   "metadata": {},
   "outputs": [
    {
     "data": {
      "text/plain": [
       "topik\n",
       "Arsitektur    208\n",
       "Pemugaran     203\n",
       "Sejarah       201\n",
       "Budaya        173\n",
       "Name: count, dtype: int64"
      ]
     },
     "execution_count": 39,
     "metadata": {},
     "output_type": "execute_result"
    }
   ],
   "source": [
    "# Capitalize all values in the 'topik' column\n",
    "combined_df['topik'] = combined_df['topik'].str.capitalize()\n",
    "combined_df['topik'] = combined_df['topik'].replace({'Stupa': 'Arsitektur', 'Relief': 'Arsitektur'})\n",
    "\n",
    "\n",
    "# Filter the DataFrame to keep only the rows where 'topik' is in the valid_topics list\n",
    "combined_df = combined_df[combined_df['topik'].isin(['Arsitektur', 'Pemugaran', 'Sejarah', 'Budaya'])]\n",
    "\n",
    "# Then, check the value counts\n",
    "combined_df['topik'].value_counts()"
   ]
  },
  {
   "cell_type": "code",
   "execution_count": 41,
   "metadata": {},
   "outputs": [
    {
     "data": {
      "text/plain": [
       "topik\n",
       "Arsitektur    75\n",
       "Budaya        75\n",
       "Pemugaran     75\n",
       "Sejarah       75\n",
       "Name: count, dtype: int64"
      ]
     },
     "execution_count": 41,
     "metadata": {},
     "output_type": "execute_result"
    }
   ],
   "source": [
    "# Randomly sample n_samples rows from each 'topik' category\n",
    "combined_df = combined_df.groupby('topik').apply(lambda x: x.sample(n=75))\n",
    "\n",
    "# Remove the extra index added by groupby\n",
    "combined_df = combined_df.reset_index(drop=True)\n",
    "\n",
    "# Verify the sample balance\n",
    "combined_df['topik'].value_counts()"
   ]
  },
  {
   "cell_type": "code",
   "execution_count": 43,
   "metadata": {},
   "outputs": [
    {
     "data": {
      "text/html": [
       "<div>\n",
       "<style scoped>\n",
       "    .dataframe tbody tr th:only-of-type {\n",
       "        vertical-align: middle;\n",
       "    }\n",
       "\n",
       "    .dataframe tbody tr th {\n",
       "        vertical-align: top;\n",
       "    }\n",
       "\n",
       "    .dataframe thead th {\n",
       "        text-align: right;\n",
       "    }\n",
       "</style>\n",
       "<table border=\"1\" class=\"dataframe\">\n",
       "  <thead>\n",
       "    <tr style=\"text-align: right;\">\n",
       "      <th></th>\n",
       "      <th>question</th>\n",
       "      <th>answer</th>\n",
       "      <th>passage</th>\n",
       "      <th>type</th>\n",
       "      <th>topik</th>\n",
       "    </tr>\n",
       "  </thead>\n",
       "  <tbody>\n",
       "    <tr>\n",
       "      <th>187</th>\n",
       "      <td>\"Apa yang dapat dipelajari dari tata letak sim...</td>\n",
       "      <td>\"Pertama, tata letak simetris ini mencerminkan...</td>\n",
       "      <td>\"Tata letak simetris stupa di Candi Borobudur ...</td>\n",
       "      <td>single</td>\n",
       "      <td>Pemugaran</td>\n",
       "    </tr>\n",
       "    <tr>\n",
       "      <th>76</th>\n",
       "      <td>\"Apa yang dipertunjukan saat upacara di Candi ...</td>\n",
       "      <td>\"Nyanyian kitab suci Buddha dan doa berlangsun...</td>\n",
       "      <td>\"Nyanyian kitab suci Buddha dan doa berlangsun...</td>\n",
       "      <td>single</td>\n",
       "      <td>Budaya</td>\n",
       "    </tr>\n",
       "    <tr>\n",
       "      <th>200</th>\n",
       "      <td>\"Apa peran tanah dan batuan dalam menciptakan ...</td>\n",
       "      <td>\"Candi Borobudur berdiri di atas bukit batuan ...</td>\n",
       "      <td>\"Tanah dan batuan di sekitar Candi Borobudur m...</td>\n",
       "      <td>single</td>\n",
       "      <td>Pemugaran</td>\n",
       "    </tr>\n",
       "    <tr>\n",
       "      <th>173</th>\n",
       "      <td>\"Apa yang dapat diidentifikasi dari pola penem...</td>\n",
       "      <td>\"Dari pola penempatan stupa yang berulang di C...</td>\n",
       "      <td>\"Dari pola penempatan stupa yang berulang di C...</td>\n",
       "      <td>single</td>\n",
       "      <td>Pemugaran</td>\n",
       "    </tr>\n",
       "    <tr>\n",
       "      <th>72</th>\n",
       "      <td>\"Bagaimana relief-relief di Candi Borobudur te...</td>\n",
       "      <td>\"Relief-relief di Candi Borobudur terkait deng...</td>\n",
       "      <td>\"Relief-relief di Candi Borobudur terkait deng...</td>\n",
       "      <td>single</td>\n",
       "      <td>Arsitektur</td>\n",
       "    </tr>\n",
       "  </tbody>\n",
       "</table>\n",
       "</div>"
      ],
      "text/plain": [
       "                                              question  \\\n",
       "187  \"Apa yang dapat dipelajari dari tata letak sim...   \n",
       "76   \"Apa yang dipertunjukan saat upacara di Candi ...   \n",
       "200  \"Apa peran tanah dan batuan dalam menciptakan ...   \n",
       "173  \"Apa yang dapat diidentifikasi dari pola penem...   \n",
       "72   \"Bagaimana relief-relief di Candi Borobudur te...   \n",
       "\n",
       "                                                answer  \\\n",
       "187  \"Pertama, tata letak simetris ini mencerminkan...   \n",
       "76   \"Nyanyian kitab suci Buddha dan doa berlangsun...   \n",
       "200  \"Candi Borobudur berdiri di atas bukit batuan ...   \n",
       "173  \"Dari pola penempatan stupa yang berulang di C...   \n",
       "72   \"Relief-relief di Candi Borobudur terkait deng...   \n",
       "\n",
       "                                               passage    type       topik  \n",
       "187  \"Tata letak simetris stupa di Candi Borobudur ...  single   Pemugaran  \n",
       "76   \"Nyanyian kitab suci Buddha dan doa berlangsun...  single      Budaya  \n",
       "200  \"Tanah dan batuan di sekitar Candi Borobudur m...  single   Pemugaran  \n",
       "173  \"Dari pola penempatan stupa yang berulang di C...  single   Pemugaran  \n",
       "72   \"Relief-relief di Candi Borobudur terkait deng...  single  Arsitektur  "
      ]
     },
     "execution_count": 43,
     "metadata": {},
     "output_type": "execute_result"
    }
   ],
   "source": [
    "combined_df.sample(5)"
   ]
  },
  {
   "cell_type": "code",
   "execution_count": 47,
   "metadata": {},
   "outputs": [
    {
     "name": "stdout",
     "output_type": "stream",
     "text": [
      "Text file 'passages.txt' created successfully.\n"
     ]
    }
   ],
   "source": [
    "# Combine all the passages into a single text block\n",
    "all_passages = \"\\n\\n\".join(combined_df['passage'].astype(str).tolist())\n",
    "\n",
    "# Save the text block to a .txt file\n",
    "with open(\"passages.txt\", \"w\", encoding=\"utf8\") as file:\n",
    "    file.write(all_passages)\n",
    "\n",
    "print(\"Text file 'passages.txt' created successfully.\")"
   ]
  }
 ],
 "metadata": {
  "kernelspec": {
   "display_name": "Python 3",
   "language": "python",
   "name": "python3"
  },
  "language_info": {
   "codemirror_mode": {
    "name": "ipython",
    "version": 3
   },
   "file_extension": ".py",
   "mimetype": "text/x-python",
   "name": "python",
   "nbconvert_exporter": "python",
   "pygments_lexer": "ipython3",
   "version": "3.9.2"
  },
  "orig_nbformat": 4
 },
 "nbformat": 4,
 "nbformat_minor": 2
}
