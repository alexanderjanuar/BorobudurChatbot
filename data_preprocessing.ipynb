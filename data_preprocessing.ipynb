{
 "cells": [
  {
   "cell_type": "markdown",
   "metadata": {},
   "source": [
    "## Data Preprocessing"
   ]
  },
  {
   "cell_type": "code",
   "execution_count": 2,
   "metadata": {},
   "outputs": [],
   "source": [
    "import pandas as pd"
   ]
  },
  {
   "cell_type": "markdown",
   "metadata": {},
   "source": [
    "#### Read Data"
   ]
  },
  {
   "cell_type": "code",
   "execution_count": 3,
   "metadata": {},
   "outputs": [
    {
     "data": {
      "text/html": [
       "<div>\n",
       "<style scoped>\n",
       "    .dataframe tbody tr th:only-of-type {\n",
       "        vertical-align: middle;\n",
       "    }\n",
       "\n",
       "    .dataframe tbody tr th {\n",
       "        vertical-align: top;\n",
       "    }\n",
       "\n",
       "    .dataframe thead th {\n",
       "        text-align: right;\n",
       "    }\n",
       "</style>\n",
       "<table border=\"1\" class=\"dataframe\">\n",
       "  <thead>\n",
       "    <tr style=\"text-align: right;\">\n",
       "      <th></th>\n",
       "      <th>question</th>\n",
       "      <th>answer</th>\n",
       "      <th>passage</th>\n",
       "      <th>type</th>\n",
       "      <th>topik</th>\n",
       "    </tr>\n",
       "  </thead>\n",
       "  <tbody>\n",
       "    <tr>\n",
       "      <th>0</th>\n",
       "      <td>\"Apa yang menarik perhatian wisatawan asing te...</td>\n",
       "      <td>\"Atribut Ornamen Arsitektur, Peradaban Jawa Ku...</td>\n",
       "      <td>\"Atribut Ornamen Arsitektur: Relief naratif di...</td>\n",
       "      <td>single</td>\n",
       "      <td>budaya</td>\n",
       "    </tr>\n",
       "    <tr>\n",
       "      <th>1</th>\n",
       "      <td>\"Apa kesamaan konstruksi kayu pada relief Cand...</td>\n",
       "      <td>\"Bentuk Atap Serupa, Teknik Konstruksi, Signif...</td>\n",
       "      <td>\"Bentuk Atap Serupa: Konstruksi kayu yang diga...</td>\n",
       "      <td>single</td>\n",
       "      <td>arsitektur</td>\n",
       "    </tr>\n",
       "    <tr>\n",
       "      <th>2</th>\n",
       "      <td>\"Apa keindahan arsitektur Candi Borobudur?\"</td>\n",
       "      <td>\"Kuil ini menampilkan ukiran relief yang rumit...</td>\n",
       "      <td>\"Candi Borobudur terkenal dengan keindahan ars...</td>\n",
       "      <td>single</td>\n",
       "      <td>arsitektur</td>\n",
       "    </tr>\n",
       "    <tr>\n",
       "      <th>3</th>\n",
       "      <td>\"Mengapa Candi Borobudur menjadi Situs Warisan...</td>\n",
       "      <td>\"Candi Borobudur ditetapkan sebagai Situs Wari...</td>\n",
       "      <td>\"Candi Borobudur ditetapkan sebagai Situs Wari...</td>\n",
       "      <td>single</td>\n",
       "      <td>budaya</td>\n",
       "    </tr>\n",
       "    <tr>\n",
       "      <th>4</th>\n",
       "      <td>\"Siapa yang membangun Candi Borobudur?\"</td>\n",
       "      <td>\"Candi Borobudur dibangun oleh Dinasti Shailen...</td>\n",
       "      <td>\"Candi Borobudur dibangun oleh Dinasti Shailen...</td>\n",
       "      <td>single</td>\n",
       "      <td>sejarah</td>\n",
       "    </tr>\n",
       "    <tr>\n",
       "      <th>...</th>\n",
       "      <td>...</td>\n",
       "      <td>...</td>\n",
       "      <td>...</td>\n",
       "      <td>...</td>\n",
       "      <td>...</td>\n",
       "    </tr>\n",
       "    <tr>\n",
       "      <th>1006</th>\n",
       "      <td>\"Apa yang dapat kita pelajari dari teknik kons...</td>\n",
       "      <td>\"Dari teknik konstruksi atap kayu pada Candi B...</td>\n",
       "      <td>\"Dari teknik konstruksi atap kayu pada Candi B...</td>\n",
       "      <td>single</td>\n",
       "      <td>Arsitektur</td>\n",
       "    </tr>\n",
       "    <tr>\n",
       "      <th>1007</th>\n",
       "      <td>\"Bagaimana atap kayu pada Candi Borobudur meng...</td>\n",
       "      <td>\"Atap kayu pada Candi Borobudur mengakomodasi ...</td>\n",
       "      <td>\"Atap kayu pada Candi Borobudur mengakomodasi ...</td>\n",
       "      <td>single</td>\n",
       "      <td>Arsitektur</td>\n",
       "    </tr>\n",
       "    <tr>\n",
       "      <th>1008</th>\n",
       "      <td>\"Bagaimana atap kayu pada Candi Borobudur diin...</td>\n",
       "      <td>\"Atap kayu pada Candi Borobudur diintegrasikan...</td>\n",
       "      <td>\"Atap kayu pada Candi Borobudur diintegrasikan...</td>\n",
       "      <td>single</td>\n",
       "      <td>Arsitektur</td>\n",
       "    </tr>\n",
       "    <tr>\n",
       "      <th>1009</th>\n",
       "      <td>\"Apakah terdapat inovasi atau elemen desain un...</td>\n",
       "      <td>\"Ya, atap kayu Candi Borobudur memiliki varias...</td>\n",
       "      <td>\"Terdapat inovasi dan elemen desain unik dalam...</td>\n",
       "      <td>single</td>\n",
       "      <td>Arsitektur</td>\n",
       "    </tr>\n",
       "    <tr>\n",
       "      <th>1010</th>\n",
       "      <td>\"Apa yang dapat kita pelajari dari tipologi at...</td>\n",
       "      <td>\"Dari tipologi atap kayu Candi Borobudur, kita...</td>\n",
       "      <td>\"Dari tipologi atap kayu Candi Borobudur, kita...</td>\n",
       "      <td>single</td>\n",
       "      <td>Budaya</td>\n",
       "    </tr>\n",
       "  </tbody>\n",
       "</table>\n",
       "<p>1011 rows × 5 columns</p>\n",
       "</div>"
      ],
      "text/plain": [
       "                                               question  \\\n",
       "0     \"Apa yang menarik perhatian wisatawan asing te...   \n",
       "1     \"Apa kesamaan konstruksi kayu pada relief Cand...   \n",
       "2           \"Apa keindahan arsitektur Candi Borobudur?\"   \n",
       "3     \"Mengapa Candi Borobudur menjadi Situs Warisan...   \n",
       "4               \"Siapa yang membangun Candi Borobudur?\"   \n",
       "...                                                 ...   \n",
       "1006  \"Apa yang dapat kita pelajari dari teknik kons...   \n",
       "1007  \"Bagaimana atap kayu pada Candi Borobudur meng...   \n",
       "1008  \"Bagaimana atap kayu pada Candi Borobudur diin...   \n",
       "1009  \"Apakah terdapat inovasi atau elemen desain un...   \n",
       "1010  \"Apa yang dapat kita pelajari dari tipologi at...   \n",
       "\n",
       "                                                 answer  \\\n",
       "0     \"Atribut Ornamen Arsitektur, Peradaban Jawa Ku...   \n",
       "1     \"Bentuk Atap Serupa, Teknik Konstruksi, Signif...   \n",
       "2     \"Kuil ini menampilkan ukiran relief yang rumit...   \n",
       "3     \"Candi Borobudur ditetapkan sebagai Situs Wari...   \n",
       "4     \"Candi Borobudur dibangun oleh Dinasti Shailen...   \n",
       "...                                                 ...   \n",
       "1006  \"Dari teknik konstruksi atap kayu pada Candi B...   \n",
       "1007  \"Atap kayu pada Candi Borobudur mengakomodasi ...   \n",
       "1008  \"Atap kayu pada Candi Borobudur diintegrasikan...   \n",
       "1009  \"Ya, atap kayu Candi Borobudur memiliki varias...   \n",
       "1010  \"Dari tipologi atap kayu Candi Borobudur, kita...   \n",
       "\n",
       "                                                passage    type       topik  \n",
       "0     \"Atribut Ornamen Arsitektur: Relief naratif di...  single      budaya  \n",
       "1     \"Bentuk Atap Serupa: Konstruksi kayu yang diga...  single  arsitektur  \n",
       "2     \"Candi Borobudur terkenal dengan keindahan ars...  single  arsitektur  \n",
       "3     \"Candi Borobudur ditetapkan sebagai Situs Wari...  single      budaya  \n",
       "4     \"Candi Borobudur dibangun oleh Dinasti Shailen...  single     sejarah  \n",
       "...                                                 ...     ...         ...  \n",
       "1006  \"Dari teknik konstruksi atap kayu pada Candi B...  single  Arsitektur  \n",
       "1007  \"Atap kayu pada Candi Borobudur mengakomodasi ...  single  Arsitektur  \n",
       "1008  \"Atap kayu pada Candi Borobudur diintegrasikan...  single  Arsitektur  \n",
       "1009  \"Terdapat inovasi dan elemen desain unik dalam...  single  Arsitektur  \n",
       "1010  \"Dari tipologi atap kayu Candi Borobudur, kita...  single      Budaya  \n",
       "\n",
       "[1011 rows x 5 columns]"
      ]
     },
     "execution_count": 3,
     "metadata": {},
     "output_type": "execute_result"
    }
   ],
   "source": [
    "# Read the Excel sheets into a dictionary of DataFrames\n",
    "raw_df = pd.read_excel('Dataset.xlsx', sheet_name=['SALSABILA', 'WILDAN'], header=1)\n",
    "\n",
    "# Convert all column names to lowercase for each DataFrame\n",
    "for sheet in raw_df:\n",
    "    raw_df[sheet].columns = raw_df[sheet].columns.str.lower()\n",
    "\n",
    "# Concatenate the two DataFrames along rows (axis=0)\n",
    "combined_df = pd.concat([raw_df['SALSABILA'], raw_df['WILDAN']], ignore_index=True)\n",
    "combined_df"
   ]
  },
  {
   "cell_type": "code",
   "execution_count": 4,
   "metadata": {},
   "outputs": [
    {
     "data": {
      "text/plain": [
       "topik\n",
       "Arsitektur    208\n",
       "Pemugaran     203\n",
       "Sejarah       201\n",
       "Budaya        173\n",
       "Name: count, dtype: int64"
      ]
     },
     "execution_count": 4,
     "metadata": {},
     "output_type": "execute_result"
    }
   ],
   "source": [
    "# Capitalize all values in the 'topik' column\n",
    "combined_df['topik'] = combined_df['topik'].str.capitalize()\n",
    "combined_df['topik'] = combined_df['topik'].replace({'Stupa': 'Arsitektur', 'Relief': 'Arsitektur'})\n",
    "\n",
    "\n",
    "# Filter the DataFrame to keep only the rows where 'topik' is in the valid_topics list\n",
    "combined_df = combined_df[combined_df['topik'].isin(['Arsitektur', 'Pemugaran', 'Sejarah', 'Budaya'])]\n",
    "\n",
    "# Then, check the value counts\n",
    "combined_df['topik'].value_counts()"
   ]
  },
  {
   "cell_type": "code",
   "execution_count": 5,
   "metadata": {},
   "outputs": [
    {
     "data": {
      "text/plain": [
       "topik\n",
       "Arsitektur    50\n",
       "Budaya        50\n",
       "Pemugaran     50\n",
       "Sejarah       50\n",
       "Name: count, dtype: int64"
      ]
     },
     "execution_count": 5,
     "metadata": {},
     "output_type": "execute_result"
    }
   ],
   "source": [
    "# Randomly sample n_samples rows from each 'topik' category\n",
    "combined_df = combined_df.groupby('topik').apply(lambda x: x.sample(n=50))\n",
    "\n",
    "# Remove the extra index added by groupby\n",
    "combined_df = combined_df.reset_index(drop=True)\n",
    "\n",
    "# Verify the sample balance\n",
    "combined_df['topik'].value_counts()"
   ]
  },
  {
   "cell_type": "code",
   "execution_count": 6,
   "metadata": {},
   "outputs": [
    {
     "data": {
      "text/html": [
       "<div>\n",
       "<style scoped>\n",
       "    .dataframe tbody tr th:only-of-type {\n",
       "        vertical-align: middle;\n",
       "    }\n",
       "\n",
       "    .dataframe tbody tr th {\n",
       "        vertical-align: top;\n",
       "    }\n",
       "\n",
       "    .dataframe thead th {\n",
       "        text-align: right;\n",
       "    }\n",
       "</style>\n",
       "<table border=\"1\" class=\"dataframe\">\n",
       "  <thead>\n",
       "    <tr style=\"text-align: right;\">\n",
       "      <th></th>\n",
       "      <th>question</th>\n",
       "      <th>answer</th>\n",
       "      <th>passage</th>\n",
       "      <th>type</th>\n",
       "      <th>topik</th>\n",
       "    </tr>\n",
       "  </thead>\n",
       "  <tbody>\n",
       "    <tr>\n",
       "      <th>82</th>\n",
       "      <td>\"Apa yang bisa kita pelajari dari Candi Borobu...</td>\n",
       "      <td>\"Dari Candi Borobudur, kita dapat belajar bany...</td>\n",
       "      <td>\"Dari Candi Borobudur, kita dapat belajar bany...</td>\n",
       "      <td>list</td>\n",
       "      <td>Budaya</td>\n",
       "    </tr>\n",
       "    <tr>\n",
       "      <th>118</th>\n",
       "      <td>\"Bagaimana kondisi Candi Borobudur saat ini da...</td>\n",
       "      <td>\"Candi Borobudur saat ini dalam kondisi yang m...</td>\n",
       "      <td>\"Candi Borobudur saat ini dalam kondisi yang m...</td>\n",
       "      <td>single</td>\n",
       "      <td>Pemugaran</td>\n",
       "    </tr>\n",
       "    <tr>\n",
       "      <th>184</th>\n",
       "      <td>\"Bagaimana peran pemerintah dalam meningkatkan...</td>\n",
       "      <td>\"Peran pemerintah dalam meningkatkan kualitas ...</td>\n",
       "      <td>\"Peran pemerintah dalam meningkatkan kualitas ...</td>\n",
       "      <td>list</td>\n",
       "      <td>Sejarah</td>\n",
       "    </tr>\n",
       "    <tr>\n",
       "      <th>12</th>\n",
       "      <td>\"Apa yang membuat Candi Borobudur unik dibandi...</td>\n",
       "      <td>\"Candi Borobudur unik karena memiliki konstruk...</td>\n",
       "      <td>\"Candi Borobudur unik karena memiliki konstruk...</td>\n",
       "      <td>single</td>\n",
       "      <td>Arsitektur</td>\n",
       "    </tr>\n",
       "    <tr>\n",
       "      <th>25</th>\n",
       "      <td>\"Apa itu Candi Borobudur?\"</td>\n",
       "      <td>\"Candi Borobudur adalah salah satu Candi Budha...</td>\n",
       "      <td>\"Candi Borobudur adalah salah satu Candi Budha...</td>\n",
       "      <td>single</td>\n",
       "      <td>Arsitektur</td>\n",
       "    </tr>\n",
       "  </tbody>\n",
       "</table>\n",
       "</div>"
      ],
      "text/plain": [
       "                                              question  \\\n",
       "82   \"Apa yang bisa kita pelajari dari Candi Borobu...   \n",
       "118  \"Bagaimana kondisi Candi Borobudur saat ini da...   \n",
       "184  \"Bagaimana peran pemerintah dalam meningkatkan...   \n",
       "12   \"Apa yang membuat Candi Borobudur unik dibandi...   \n",
       "25                          \"Apa itu Candi Borobudur?\"   \n",
       "\n",
       "                                                answer  \\\n",
       "82   \"Dari Candi Borobudur, kita dapat belajar bany...   \n",
       "118  \"Candi Borobudur saat ini dalam kondisi yang m...   \n",
       "184  \"Peran pemerintah dalam meningkatkan kualitas ...   \n",
       "12   \"Candi Borobudur unik karena memiliki konstruk...   \n",
       "25   \"Candi Borobudur adalah salah satu Candi Budha...   \n",
       "\n",
       "                                               passage    type       topik  \n",
       "82   \"Dari Candi Borobudur, kita dapat belajar bany...    list      Budaya  \n",
       "118  \"Candi Borobudur saat ini dalam kondisi yang m...  single   Pemugaran  \n",
       "184  \"Peran pemerintah dalam meningkatkan kualitas ...    list     Sejarah  \n",
       "12   \"Candi Borobudur unik karena memiliki konstruk...  single  Arsitektur  \n",
       "25   \"Candi Borobudur adalah salah satu Candi Budha...  single  Arsitektur  "
      ]
     },
     "execution_count": 6,
     "metadata": {},
     "output_type": "execute_result"
    }
   ],
   "source": [
    "combined_df.sample(5)"
   ]
  },
  {
   "cell_type": "code",
   "execution_count": 7,
   "metadata": {},
   "outputs": [],
   "source": [
    "combined_df.to_csv('filteredData.csv')"
   ]
  },
  {
   "cell_type": "code",
   "execution_count": 47,
   "metadata": {},
   "outputs": [
    {
     "name": "stdout",
     "output_type": "stream",
     "text": [
      "Text file 'passages.txt' created successfully.\n"
     ]
    }
   ],
   "source": [
    "# Combine all the passages into a single text block\n",
    "all_passages = \"\\n\\n\".join(combined_df['passage'].astype(str).tolist())\n",
    "\n",
    "# Save the text block to a .txt file\n",
    "with open(\"passages.txt\", \"w\", encoding=\"utf8\") as file:\n",
    "    file.write(all_passages)\n",
    "\n",
    "print(\"Text file 'passages.txt' created successfully.\")"
   ]
  }
 ],
 "metadata": {
  "kernelspec": {
   "display_name": "Python 3",
   "language": "python",
   "name": "python3"
  },
  "language_info": {
   "codemirror_mode": {
    "name": "ipython",
    "version": 3
   },
   "file_extension": ".py",
   "mimetype": "text/x-python",
   "name": "python",
   "nbconvert_exporter": "python",
   "pygments_lexer": "ipython3",
   "version": "3.9.2"
  },
  "orig_nbformat": 4
 },
 "nbformat": 4,
 "nbformat_minor": 2
}
